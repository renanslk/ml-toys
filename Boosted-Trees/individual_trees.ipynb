{
 "cells": [
  {
   "cell_type": "markdown",
   "metadata": {},
   "source": [
    "\n",
    "# Dummy XGBoost Regressor\n"
   ]
  },
  {
   "cell_type": "code",
   "execution_count": 24,
   "metadata": {},
   "outputs": [
    {
     "name": "stdout",
     "output_type": "stream",
     "text": [
      "RMSE :  3.713366\n"
     ]
    }
   ],
   "source": [
    "import numpy as np \n",
    "import pandas as pd \n",
    "import xgboost as xg \n",
    "from sklearn.model_selection import train_test_split \n",
    "from sklearn.metrics import mean_squared_error as MSE \n",
    "  \n",
    "# Load the data \n",
    "dataset = pd.read_csv(\"boston_housing.csv\") \n",
    "X, y = dataset.iloc[:, :-1], dataset.iloc[:, -1] \n",
    "  \n",
    "# Splitting \n",
    "train_X, test_X, train_y, test_y = train_test_split(X, y, \n",
    "                      test_size = 0.3, random_state = 123) \n",
    "  \n",
    "# Instantiation \n",
    "# xgb_r = xg.XGBRegressor(objective ='reg:linear', \n",
    "#                   n_estimators = 10, seed = 123) \n",
    "xgb_r = xg.XGBRegressor(objective ='reg:squarederror', \n",
    "                  n_estimators = 10, seed = 123) \n",
    "  \n",
    "# Fitting the model \n",
    "xgb_r.fit(train_X, train_y) \n",
    "  \n",
    "# Predict the model \n",
    "pred = xgb_r.predict(test_X) \n",
    "  \n",
    "# RMSE Computation \n",
    "rmse = np.sqrt(MSE(test_y, pred)) \n",
    "print(\"RMSE : % f\" %(rmse)) \n"
   ]
  },
  {
   "cell_type": "code",
   "execution_count": 25,
   "metadata": {},
   "outputs": [
    {
     "data": {
      "text/plain": [
       "'{\"learner\":{\"generic_param\":{\"fail_on_invalid_gpu_id\":\"0\",\"gpu_id\":\"-1\",\"n_jobs\":\"0\",\"nthread\":\"0\",\"random_state\":\"123\",\"seed\":\"123\",\"seed_per_iteration\":\"0\",\"validate_parameters\":\"1\"},\"gradient_booster\":{\"gbtree_model_param\":{\"num_parallel_tree\":\"1\",\"num_trees\":\"10\",\"size_leaf_vector\":\"0\"},\"gbtree_train_param\":{\"predictor\":\"auto\",\"process_type\":\"default\",\"tree_method\":\"exact\",\"updater\":\"grow_colmaker,prune\",\"updater_seq\":\"grow_colmaker,prune\"},\"name\":\"gbtree\",\"specified_updater\":false,\"updater\":{\"grow_colmaker\":{\"colmaker_train_param\":{\"default_direction\":\"learn\",\"opt_dense_col\":\"1\"},\"train_param\":{\"alpha\":\"0\",\"cache_opt\":\"1\",\"colsample_bylevel\":\"1\",\"colsample_bynode\":\"1\",\"colsample_bytree\":\"1\",\"eta\":\"0.300000012\",\"gamma\":\"0\",\"grow_policy\":\"depthwise\",\"interaction_constraints\":\"\",\"lambda\":\"1\",\"learning_rate\":\"0.300000012\",\"max_bin\":\"256\",\"max_cat_threshold\":\"64\",\"max_cat_to_onehot\":\"4\",\"max_delta_step\":\"0\",\"max_depth\":\"6\",\"max_leaves\":\"0\",\"min_child_weight\":\"1\",\"min_split_loss\":\"0\",\"monotone_constraints\":\"()\",\"refresh_leaf\":\"1\",\"reg_alpha\":\"0\",\"reg_lambda\":\"1\",\"sampling_method\":\"uniform\",\"sketch_ratio\":\"2\",\"sparse_threshold\":\"0.20000000000000001\",\"subsample\":\"1\"}},\"prune\":{\"train_param\":{\"alpha\":\"0\",\"cache_opt\":\"1\",\"colsample_bylevel\":\"1\",\"colsample_bynode\":\"1\",\"colsample_bytree\":\"1\",\"eta\":\"0.300000012\",\"gamma\":\"0\",\"grow_policy\":\"depthwise\",\"interaction_constraints\":\"\",\"lambda\":\"1\",\"learning_rate\":\"0.300000012\",\"max_bin\":\"256\",\"max_cat_threshold\":\"64\",\"max_cat_to_onehot\":\"4\",\"max_delta_step\":\"0\",\"max_depth\":\"6\",\"max_leaves\":\"0\",\"min_child_weight\":\"1\",\"min_split_loss\":\"0\",\"monotone_constraints\":\"()\",\"refresh_leaf\":\"1\",\"reg_alpha\":\"0\",\"reg_lambda\":\"1\",\"sampling_method\":\"uniform\",\"sketch_ratio\":\"2\",\"sparse_threshold\":\"0.20000000000000001\",\"subsample\":\"1\"}}}},\"learner_model_param\":{\"base_score\":\"5E-1\",\"boost_from_average\":\"1\",\"num_class\":\"0\",\"num_feature\":\"13\",\"num_target\":\"1\"},\"learner_train_param\":{\"booster\":\"gbtree\",\"disable_default_eval_metric\":\"0\",\"dsplit\":\"auto\",\"objective\":\"reg:squarederror\"},\"metrics\":[{\"name\":\"rmse\"}],\"objective\":{\"name\":\"reg:squarederror\",\"reg_loss_param\":{\"scale_pos_weight\":\"1\"}}},\"version\":[1,7,6]}'"
      ]
     },
     "execution_count": 25,
     "metadata": {},
     "output_type": "execute_result"
    }
   ],
   "source": [
    "xgb_r.get_booster().save_config()"
   ]
  },
  {
   "cell_type": "code",
   "execution_count": 26,
   "metadata": {},
   "outputs": [],
   "source": [
    "import pandas as pd\n",
    "df = xgb_r.get_booster().trees_to_dataframe()"
   ]
  },
  {
   "cell_type": "code",
   "execution_count": 27,
   "metadata": {},
   "outputs": [
    {
     "data": {
      "text/plain": [
       "Index(['Tree', 'Node', 'ID', 'Feature', 'Split', 'Yes', 'No', 'Missing',\n",
       "       'Gain', 'Cover', 'Category'],\n",
       "      dtype='object')"
      ]
     },
     "execution_count": 27,
     "metadata": {},
     "output_type": "execute_result"
    }
   ],
   "source": [
    "# GENERATE EACH TREE DATAFRAME\n",
    "\n",
    "df0 = df[df[\"Tree\"] == 0]\n",
    "df1 = df[df[\"Tree\"] == 1]\n",
    "df2 = df[df[\"Tree\"] == 2]\n",
    "df3 = df[df[\"Tree\"] == 3]\n",
    "df4 = df[df[\"Tree\"] == 4]\n",
    "df5 = df[df[\"Tree\"] == 5]\n",
    "df6 = df[df[\"Tree\"] == 6]\n",
    "df7 = df[df[\"Tree\"] == 7]\n",
    "df8 = df[df[\"Tree\"] == 8]\n",
    "df9 = df[df[\"Tree\"] == 9]\n",
    "\n",
    "df0.columns"
   ]
  },
  {
   "cell_type": "code",
   "execution_count": 28,
   "metadata": {},
   "outputs": [],
   "source": [
    "def treeCalc(data, feature, threshold, childrenLeft, childrenRight, value):\n",
    "    i = 0\n",
    "    while feature[i] != -2:\n",
    "        if data[feature[i]] < threshold[i]:\n",
    "            i = childrenLeft[i]\n",
    "        else:\n",
    "            i = childrenRight[i]\n",
    "    return value[i]"
   ]
  },
  {
   "cell_type": "markdown",
   "metadata": {},
   "source": [
    "# Python PRED"
   ]
  },
  {
   "cell_type": "code",
   "execution_count": 29,
   "metadata": {},
   "outputs": [
    {
     "data": {
      "text/html": [
       "<div>\n",
       "<style scoped>\n",
       "    .dataframe tbody tr th:only-of-type {\n",
       "        vertical-align: middle;\n",
       "    }\n",
       "\n",
       "    .dataframe tbody tr th {\n",
       "        vertical-align: top;\n",
       "    }\n",
       "\n",
       "    .dataframe thead th {\n",
       "        text-align: right;\n",
       "    }\n",
       "</style>\n",
       "<table border=\"1\" class=\"dataframe\">\n",
       "  <thead>\n",
       "    <tr style=\"text-align: right;\">\n",
       "      <th></th>\n",
       "      <th>0</th>\n",
       "      <th>1</th>\n",
       "      <th>2</th>\n",
       "      <th>3</th>\n",
       "      <th>4</th>\n",
       "      <th>5</th>\n",
       "      <th>6</th>\n",
       "      <th>7</th>\n",
       "      <th>8</th>\n",
       "      <th>9</th>\n",
       "      <th>10</th>\n",
       "      <th>11</th>\n",
       "      <th>12</th>\n",
       "    </tr>\n",
       "  </thead>\n",
       "  <tbody>\n",
       "    <tr>\n",
       "      <th>410</th>\n",
       "      <td>51.1358</td>\n",
       "      <td>0.0</td>\n",
       "      <td>18.1</td>\n",
       "      <td>0</td>\n",
       "      <td>0.597</td>\n",
       "      <td>5.757</td>\n",
       "      <td>100.0</td>\n",
       "      <td>1.413</td>\n",
       "      <td>24</td>\n",
       "      <td>666</td>\n",
       "      <td>20.2</td>\n",
       "      <td>2.6</td>\n",
       "      <td>10.11</td>\n",
       "    </tr>\n",
       "  </tbody>\n",
       "</table>\n",
       "</div>"
      ],
      "text/plain": [
       "           0    1     2  3      4      5      6      7   8    9    10   11  \\\n",
       "410  51.1358  0.0  18.1  0  0.597  5.757  100.0  1.413  24  666  20.2  2.6   \n",
       "\n",
       "        12  \n",
       "410  10.11  "
      ]
     },
     "execution_count": 29,
     "metadata": {},
     "output_type": "execute_result"
    }
   ],
   "source": [
    "# Input data\n",
    "test_X[0:1]"
   ]
  },
  {
   "cell_type": "code",
   "execution_count": 30,
   "metadata": {},
   "outputs": [
    {
     "data": {
      "text/plain": [
       "array([29.097708], dtype=float32)"
      ]
     },
     "execution_count": 30,
     "metadata": {},
     "output_type": "execute_result"
    }
   ],
   "source": [
    "pred = xgb_r.predict(test_X[0:1]) \n",
    "pred"
   ]
  },
  {
   "cell_type": "markdown",
   "metadata": {},
   "source": [
    "# C-Like PRED"
   ]
  },
  {
   "cell_type": "code",
   "execution_count": 31,
   "metadata": {},
   "outputs": [],
   "source": [
    "# Same input data\n",
    "testCase = [51.13580,0.0,18.10,0,0.5970,5.757,100.0,1.4130,24,666,20.2,2.60,10.11]"
   ]
  },
  {
   "cell_type": "code",
   "execution_count": 32,
   "metadata": {},
   "outputs": [
    {
     "name": "stdout",
     "output_type": "stream",
     "text": [
      "29.097708245999996\n"
     ]
    },
    {
     "name": "stderr",
     "output_type": "stream",
     "text": [
      "C:\\Users\\Renan\\AppData\\Local\\Temp\\ipykernel_25036\\3608822316.py:13: SettingWithCopyWarning: \n",
      "A value is trying to be set on a copy of a slice from a DataFrame.\n",
      "Try using .loc[row_indexer,col_indexer] = value instead\n",
      "\n",
      "See the caveats in the documentation: https://pandas.pydata.org/pandas-docs/stable/user_guide/indexing.html#returning-a-view-versus-a-copy\n",
      "  el['Yess'] = el['Yes'].str[2:]\n",
      "C:\\Users\\Renan\\AppData\\Local\\Temp\\ipykernel_25036\\3608822316.py:14: SettingWithCopyWarning: \n",
      "A value is trying to be set on a copy of a slice from a DataFrame.\n",
      "Try using .loc[row_indexer,col_indexer] = value instead\n",
      "\n",
      "See the caveats in the documentation: https://pandas.pydata.org/pandas-docs/stable/user_guide/indexing.html#returning-a-view-versus-a-copy\n",
      "  el['Noo'] = el['No'].str[2:]\n",
      "C:\\Users\\Renan\\AppData\\Local\\Temp\\ipykernel_25036\\3608822316.py:13: SettingWithCopyWarning: \n",
      "A value is trying to be set on a copy of a slice from a DataFrame.\n",
      "Try using .loc[row_indexer,col_indexer] = value instead\n",
      "\n",
      "See the caveats in the documentation: https://pandas.pydata.org/pandas-docs/stable/user_guide/indexing.html#returning-a-view-versus-a-copy\n",
      "  el['Yess'] = el['Yes'].str[2:]\n",
      "C:\\Users\\Renan\\AppData\\Local\\Temp\\ipykernel_25036\\3608822316.py:14: SettingWithCopyWarning: \n",
      "A value is trying to be set on a copy of a slice from a DataFrame.\n",
      "Try using .loc[row_indexer,col_indexer] = value instead\n",
      "\n",
      "See the caveats in the documentation: https://pandas.pydata.org/pandas-docs/stable/user_guide/indexing.html#returning-a-view-versus-a-copy\n",
      "  el['Noo'] = el['No'].str[2:]\n",
      "C:\\Users\\Renan\\AppData\\Local\\Temp\\ipykernel_25036\\3608822316.py:13: SettingWithCopyWarning: \n",
      "A value is trying to be set on a copy of a slice from a DataFrame.\n",
      "Try using .loc[row_indexer,col_indexer] = value instead\n",
      "\n",
      "See the caveats in the documentation: https://pandas.pydata.org/pandas-docs/stable/user_guide/indexing.html#returning-a-view-versus-a-copy\n",
      "  el['Yess'] = el['Yes'].str[2:]\n",
      "C:\\Users\\Renan\\AppData\\Local\\Temp\\ipykernel_25036\\3608822316.py:14: SettingWithCopyWarning: \n",
      "A value is trying to be set on a copy of a slice from a DataFrame.\n",
      "Try using .loc[row_indexer,col_indexer] = value instead\n",
      "\n",
      "See the caveats in the documentation: https://pandas.pydata.org/pandas-docs/stable/user_guide/indexing.html#returning-a-view-versus-a-copy\n",
      "  el['Noo'] = el['No'].str[2:]\n",
      "C:\\Users\\Renan\\AppData\\Local\\Temp\\ipykernel_25036\\3608822316.py:13: SettingWithCopyWarning: \n",
      "A value is trying to be set on a copy of a slice from a DataFrame.\n",
      "Try using .loc[row_indexer,col_indexer] = value instead\n",
      "\n",
      "See the caveats in the documentation: https://pandas.pydata.org/pandas-docs/stable/user_guide/indexing.html#returning-a-view-versus-a-copy\n",
      "  el['Yess'] = el['Yes'].str[2:]\n",
      "C:\\Users\\Renan\\AppData\\Local\\Temp\\ipykernel_25036\\3608822316.py:14: SettingWithCopyWarning: \n",
      "A value is trying to be set on a copy of a slice from a DataFrame.\n",
      "Try using .loc[row_indexer,col_indexer] = value instead\n",
      "\n",
      "See the caveats in the documentation: https://pandas.pydata.org/pandas-docs/stable/user_guide/indexing.html#returning-a-view-versus-a-copy\n",
      "  el['Noo'] = el['No'].str[2:]\n",
      "C:\\Users\\Renan\\AppData\\Local\\Temp\\ipykernel_25036\\3608822316.py:13: SettingWithCopyWarning: \n",
      "A value is trying to be set on a copy of a slice from a DataFrame.\n",
      "Try using .loc[row_indexer,col_indexer] = value instead\n",
      "\n",
      "See the caveats in the documentation: https://pandas.pydata.org/pandas-docs/stable/user_guide/indexing.html#returning-a-view-versus-a-copy\n",
      "  el['Yess'] = el['Yes'].str[2:]\n",
      "C:\\Users\\Renan\\AppData\\Local\\Temp\\ipykernel_25036\\3608822316.py:14: SettingWithCopyWarning: \n",
      "A value is trying to be set on a copy of a slice from a DataFrame.\n",
      "Try using .loc[row_indexer,col_indexer] = value instead\n",
      "\n",
      "See the caveats in the documentation: https://pandas.pydata.org/pandas-docs/stable/user_guide/indexing.html#returning-a-view-versus-a-copy\n",
      "  el['Noo'] = el['No'].str[2:]\n",
      "C:\\Users\\Renan\\AppData\\Local\\Temp\\ipykernel_25036\\3608822316.py:13: SettingWithCopyWarning: \n",
      "A value is trying to be set on a copy of a slice from a DataFrame.\n",
      "Try using .loc[row_indexer,col_indexer] = value instead\n",
      "\n",
      "See the caveats in the documentation: https://pandas.pydata.org/pandas-docs/stable/user_guide/indexing.html#returning-a-view-versus-a-copy\n",
      "  el['Yess'] = el['Yes'].str[2:]\n",
      "C:\\Users\\Renan\\AppData\\Local\\Temp\\ipykernel_25036\\3608822316.py:14: SettingWithCopyWarning: \n",
      "A value is trying to be set on a copy of a slice from a DataFrame.\n",
      "Try using .loc[row_indexer,col_indexer] = value instead\n",
      "\n",
      "See the caveats in the documentation: https://pandas.pydata.org/pandas-docs/stable/user_guide/indexing.html#returning-a-view-versus-a-copy\n",
      "  el['Noo'] = el['No'].str[2:]\n",
      "C:\\Users\\Renan\\AppData\\Local\\Temp\\ipykernel_25036\\3608822316.py:13: SettingWithCopyWarning: \n",
      "A value is trying to be set on a copy of a slice from a DataFrame.\n",
      "Try using .loc[row_indexer,col_indexer] = value instead\n",
      "\n",
      "See the caveats in the documentation: https://pandas.pydata.org/pandas-docs/stable/user_guide/indexing.html#returning-a-view-versus-a-copy\n",
      "  el['Yess'] = el['Yes'].str[2:]\n",
      "C:\\Users\\Renan\\AppData\\Local\\Temp\\ipykernel_25036\\3608822316.py:14: SettingWithCopyWarning: \n",
      "A value is trying to be set on a copy of a slice from a DataFrame.\n",
      "Try using .loc[row_indexer,col_indexer] = value instead\n",
      "\n",
      "See the caveats in the documentation: https://pandas.pydata.org/pandas-docs/stable/user_guide/indexing.html#returning-a-view-versus-a-copy\n",
      "  el['Noo'] = el['No'].str[2:]\n",
      "C:\\Users\\Renan\\AppData\\Local\\Temp\\ipykernel_25036\\3608822316.py:13: SettingWithCopyWarning: \n",
      "A value is trying to be set on a copy of a slice from a DataFrame.\n",
      "Try using .loc[row_indexer,col_indexer] = value instead\n",
      "\n",
      "See the caveats in the documentation: https://pandas.pydata.org/pandas-docs/stable/user_guide/indexing.html#returning-a-view-versus-a-copy\n",
      "  el['Yess'] = el['Yes'].str[2:]\n",
      "C:\\Users\\Renan\\AppData\\Local\\Temp\\ipykernel_25036\\3608822316.py:14: SettingWithCopyWarning: \n",
      "A value is trying to be set on a copy of a slice from a DataFrame.\n",
      "Try using .loc[row_indexer,col_indexer] = value instead\n",
      "\n",
      "See the caveats in the documentation: https://pandas.pydata.org/pandas-docs/stable/user_guide/indexing.html#returning-a-view-versus-a-copy\n",
      "  el['Noo'] = el['No'].str[2:]\n",
      "C:\\Users\\Renan\\AppData\\Local\\Temp\\ipykernel_25036\\3608822316.py:13: SettingWithCopyWarning: \n",
      "A value is trying to be set on a copy of a slice from a DataFrame.\n",
      "Try using .loc[row_indexer,col_indexer] = value instead\n",
      "\n",
      "See the caveats in the documentation: https://pandas.pydata.org/pandas-docs/stable/user_guide/indexing.html#returning-a-view-versus-a-copy\n",
      "  el['Yess'] = el['Yes'].str[2:]\n",
      "C:\\Users\\Renan\\AppData\\Local\\Temp\\ipykernel_25036\\3608822316.py:14: SettingWithCopyWarning: \n",
      "A value is trying to be set on a copy of a slice from a DataFrame.\n",
      "Try using .loc[row_indexer,col_indexer] = value instead\n",
      "\n",
      "See the caveats in the documentation: https://pandas.pydata.org/pandas-docs/stable/user_guide/indexing.html#returning-a-view-versus-a-copy\n",
      "  el['Noo'] = el['No'].str[2:]\n",
      "C:\\Users\\Renan\\AppData\\Local\\Temp\\ipykernel_25036\\3608822316.py:13: SettingWithCopyWarning: \n",
      "A value is trying to be set on a copy of a slice from a DataFrame.\n",
      "Try using .loc[row_indexer,col_indexer] = value instead\n",
      "\n",
      "See the caveats in the documentation: https://pandas.pydata.org/pandas-docs/stable/user_guide/indexing.html#returning-a-view-versus-a-copy\n",
      "  el['Yess'] = el['Yes'].str[2:]\n",
      "C:\\Users\\Renan\\AppData\\Local\\Temp\\ipykernel_25036\\3608822316.py:14: SettingWithCopyWarning: \n",
      "A value is trying to be set on a copy of a slice from a DataFrame.\n",
      "Try using .loc[row_indexer,col_indexer] = value instead\n",
      "\n",
      "See the caveats in the documentation: https://pandas.pydata.org/pandas-docs/stable/user_guide/indexing.html#returning-a-view-versus-a-copy\n",
      "  el['Noo'] = el['No'].str[2:]\n"
     ]
    }
   ],
   "source": [
    "elem = [df0, df1, df2, df3, df4, df5, df6, df7, df8, df9]\n",
    "results = []\n",
    "\n",
    "ft = []\n",
    "th = []\n",
    "cl = []\n",
    "cr = []\n",
    "vl = []\n",
    "\n",
    "for el in elem:\n",
    "    \n",
    "    threshold = el.Split.replace(np.nan,-1.0).tolist()\n",
    "    el['Yess'] = el['Yes'].str[2:]\n",
    "    el['Noo'] = el['No'].str[2:]\n",
    "    childrenRight = el.Noo.replace(np.nan,-1).astype(int).tolist()\n",
    "    childrenLeft = el.Yess.replace(np.nan,-1).astype(int).tolist()\n",
    "    value = el.Gain.tolist()\n",
    "    feature = el.Feature.replace('Leaf',-2).astype(int).tolist()\n",
    "    \n",
    "    ft.append(feature)\n",
    "    th.append(threshold)\n",
    "    cl.append(childrenLeft)\n",
    "    cr.append(childrenRight)\n",
    "    vl.append(value)\n",
    "    \n",
    "    # calculation\n",
    "    results.append(treeCalc(testCase, feature, threshold, childrenLeft, childrenRight, value))\n",
    "\n",
    "bias = 0.5\n",
    "print(np.sum(results) + bias)"
   ]
  },
  {
   "cell_type": "code",
   "execution_count": 33,
   "metadata": {},
   "outputs": [],
   "source": [
    "# # DEBUG\n",
    "# print(childrenRight)\n",
    "# print(childrenLeft)\n",
    "# print(feature)\n",
    "# print(value)\n",
    "# print(threshold)"
   ]
  },
  {
   "cell_type": "markdown",
   "metadata": {},
   "source": [
    "# C-Parser"
   ]
  },
  {
   "cell_type": "code",
   "execution_count": 34,
   "metadata": {},
   "outputs": [
    {
     "name": "stdout",
     "output_type": "stream",
     "text": [
      "int modelFeature0[19] = {5, 12, 5, 12, 12, 0, -2, -2, -2, 0, 0, -2, -2, -2, -2, 2, -2, -2, -2};\n",
      "int modelThreshold0[19] = {6.97799969, 14.2600002, 7.43700027, 9.72500038, 21.4899998, 6.98962498, -1.0, -1.0, -1.0, 15.72505, 24.7199516, -1.0, -1.0, -1.0, -1.0, 26.6949997, -1.0, -1.0, -1.0};\n",
      "int modelChildrenLeft0[19] = {1, 3, 5, 7, 9, 11, -1, -1, -1, 13, 15, -1, -1, -1, -1, 17, -1, -1, -1};\n",
      "int modelChildrenRight0[19] = {2, 4, 6, 8, 10, 12, -1, -1, -1, 14, 16, -1, -1, -1, -1, 18, -1, -1, -1};\n",
      "int modelValue0[19] = {13252.0938, 5099.58594, 874.132812, 442.046875, 627.511719, 32.0292969, 13.1112509, 7.43889904, 6.03202724, 83.2988281, 94.0341797, 9.30777836, 2.59500003, 4.95896149, 2.61000013, 7.27148438, 1.6500001, 3.50142884, 1.41000009};\n",
      "\n",
      "int modelFeature1[25] = {5, 12, 5, 7, 0, 4, -2, -2, 5, 2, 0, -2, -2, -2, -2, 0, -2, 12, -2, -2, -2, -2, 4, -2, -2};\n",
      "int modelThreshold1[25] = {6.79699993, 14.8600006, 7.43700027, 1.47134995, 5.76920986, 0.659000039, -1.0, -1.0, 6.06150007, 26.6949997, 33.5037994, -1.0, -1.0, -1.0, -1.0, 0.69915998, -1.0, 24.2449989, -1.0, -1.0, -1.0, -1.0, 0.68599999, -1.0, -1.0};\n",
      "int modelChildrenLeft1[25] = {1, 3, 5, 7, 9, 11, -1, -1, 13, 15, 17, -1, -1, -1, -1, 19, -1, 21, -1, -1, -1, -1, 23, -1, -1};\n",
      "int modelChildrenRight1[25] = {2, 4, 6, 8, 10, 12, -1, -1, 14, 16, 18, -1, -1, -1, -1, 20, -1, 22, -1, -1, -1, -1, 24, -1, -1};\n",
      "int modelValue1[25] = {7376.38281, 1843.16406, 971.15625, 256.25, 471.158203, 436.472656, 9.3417654, 8.41222, 120.335938, 48.5, 29.3532715, 6.61468983, 1.97951782, 3.9101212, 4.8132658, 4.32324219, 1.74972475, 8.56518555, 1.12950003, 4.02125263, 3.06033111, 2.48941803, 18.948822, 2.21221447, 1.08530354};\n",
      "\n",
      "int modelFeature2[39] = {12, 7, 12, -2, -2, 5, 7, 10, -2, 12, 11, 7, 0, 6, 4, -2, 10, 12, 4, 0, -2, -2, 11, 2, 12, -2, -2, -2, -2, -2, -2, -2, -2, -2, -2, -2, -2, -2, -2};\n",
      "int modelThreshold2[39] = {5.49499989, 6.54565001, 11.6749992, -1.0, -1.0, 7.09150028, 2.07520008, 20.9500008, -1.0, 20.1949997, 168.729996, 4.4847002, 0.0540850013, 78.3499985, 0.675000012, -1.0, 20.9500008, 5.59000015, 0.516499996, 0.0452100001, -1.0, -1.0, 396.294983, 26.6949997, 29.75, -1.0, -1.0, -1.0, -1.0, -1.0, -1.0, -1.0, -1.0, -1.0, -1.0, -1.0, -1.0, -1.0, -1.0};\n",
      "int modelChildrenLeft2[39] = {1, 3, 5, -1, -1, 7, 9, 11, -1, 13, 15, 17, 19, 21, 23, -1, 25, 27, 29, 31, -1, -1, 33, 35, 37, -1, -1, -1, -1, -1, -1, -1, -1, -1, -1, -1, -1, -1, -1};\n",
      "int modelChildrenRight2[39] = {2, 4, 6, -1, -1, 8, 10, 12, -1, 14, 16, 18, 20, 22, 24, -1, 26, 28, 30, 32, -1, -1, 34, 36, 38, -1, -1, -1, -1, -1, -1, -1, -1, -1, -1, -1, -1, -1, -1};\n",
      "int modelValue2[39] = {3896.57812, 173.013672, 1139.67969, 6.09964037, 3.84704709, 291.337891, 300.235352, 63.9082031, 5.10612297, 50.734375, 41.9853516, 54.6923828, 27.855896, 5.625, 25.8963623, 1.6285919, 5.70068359, 3.32128906, 32.9238281, 6.50707912, 2.35712266, 0.562743068, 0.424072266, 4.5657959, 17.9764404, 2.89594293, 2.05910945, 1.07662988, 3.78422451, 3.03794456, 0.562175274, 0.95264715, 0.00764694251, 2.39016747, 1.52620685, 2.03940439, 0.778055131, 1.38103831, 0.616888881};\n",
      "\n",
      "int modelFeature3[39] = {5, 12, 5, 6, 4, -2, -2, 5, 11, 10, 0, 0, 0, -2, -2, 7, -2, 0, 6, 4, 2, 6, -2, -2, -2, -2, 11, -2, 0, -2, -2, -2, -2, -2, -2, -2, -2, -2, -2};\n",
      "int modelThreshold3[39] = {7.12699986, 10.1399994, 7.82550001, 94.3000031, 0.656999946, -1.0, -1.0, 6.54300022, 358.660004, 18.6500015, 6.99237013, 0.0680599958, 5.7196703, -1.0, -1.0, 6.34140015, -1.0, 1.27021503, 77.9499969, 0.516499996, 1.79999995, 85.6999969, -1.0, -1.0, -1.0, -1.0, 110.095001, -1.0, 12.1900997, -1.0, -1.0, -1.0, -1.0, -1.0, -1.0, -1.0, -1.0, -1.0, -1.0};\n",
      "int modelChildrenLeft3[39] = {1, 3, 5, 7, 9, -1, -1, 11, 13, 15, 17, 19, 21, -1, -1, 23, -1, 25, 27, 29, 31, 33, -1, -1, -1, -1, 35, -1, 37, -1, -1, -1, -1, -1, -1, -1, -1, -1, -1};\n",
      "int modelChildrenRight3[39] = {2, 4, 6, 8, 10, -1, -1, 12, 14, 16, 18, 20, 22, -1, -1, 24, -1, 26, 28, 30, 32, 34, -1, -1, -1, -1, 36, -1, 38, -1, -1, -1, -1, -1, -1, -1, -1, -1, -1};\n",
      "int modelValue3[39] = {2199.87891, 682.641602, 36.2041016, 335.532227, 218.010254, 3.78325129, 5.31655836, 142.036133, 53.3205566, 34.7001953, 80.5227051, 32.4667969, 14.4208984, 1.16454172, 5.28932333, 20.1462402, 1.76050937, 6.58172607, 10.6887207, 36.0805664, 11.7392578, 1.82128906, 0.718996286, 2.31304383, 0.956074715, 0.370152712, 7.12200928, 0.163439423, 9.42654419, 1.83312285, 0.322899252, 0.556955338, 2.42458224, 3.07643533, 1.78033507, 0.774544537, 1.76615906, 1.16763639, 0.746694028};\n",
      "\n",
      "int modelFeature4[51] = {12, 7, 12, -2, 6, 4, 4, -2, -2, 9, 4, 10, 12, -2, 5, 2, -2, 7, 12, 0, 4, 4, 9, 11, -2, 2, 6, 7, -2, 4, -2, 4, 5, -2, -2, -2, -2, -2, -2, -2, -2, -2, -2, -2, -2, -2, -2, -2, -2, -2, -2};\n",
      "int modelThreshold4[51] = {4.6500001, 3.43514991, 10.1399994, -1.0, 74.6500015, 0.574000001, 0.656999946, -1.0, -1.0, 223.0, 0.743999958, 20.9500008, 18.8850002, -1.0, 6.14449978, 18.8400002, -1.0, 6.32805014, 19.2999992, 12.2236004, 0.728999972, 0.558500051, 410.0, 390.815002, -1.0, 26.6949997, 86.3000031, 4.35564995, -1.0, 0.696500003, -1.0, 0.675000012, 4.91450024, -1.0, -1.0, -1.0, -1.0, -1.0, -1.0, -1.0, -1.0, -1.0, -1.0, -1.0, -1.0, -1.0, -1.0, -1.0, -1.0, -1.0, -1.0};\n",
      "int modelChildrenLeft4[51] = {1, 3, 5, -1, 7, 9, 11, -1, -1, 13, 15, 17, 19, -1, 21, 23, -1, 25, 27, 29, 31, 33, 35, 37, -1, 39, 41, 43, -1, 45, -1, 47, 49, -1, -1, -1, -1, -1, -1, -1, -1, -1, -1, -1, -1, -1, -1, -1, -1, -1, -1};\n",
      "int modelChildrenRight4[51] = {2, 4, 6, -1, 8, 10, 12, -1, -1, 14, 16, 18, 20, -1, 22, 24, -1, 26, 28, 30, 32, 34, 36, 38, -1, 40, 42, 44, -1, 46, -1, 48, 50, -1, -1, -1, -1, -1, -1, -1, -1, -1, -1, -1, -1, -1, -1, -1, -1, -1, -1};\n",
      "int modelValue4[51] = {1143.44531, 32.0830078, 379.616211, 4.1526432, 17.6391602, 210.069824, 96.6044922, 2.8894527, 0.649618149, 126.991211, 5.06811523, 25.0805664, 47.8291016, 2.78936934, 66.5153809, 7.38696289, 0.905854523, 20.5844727, 0.807861328, 4.77893066, 9.92980957, 17.9957886, 3.65722656, 14.8212891, 1.40449691, 22.2487793, 0.919235229, 1.08831787, 0.600703061, 2.48187256, 0.516947687, 4.21897888, 1.0503006, 1.21121395, -0.0419348739, 1.82485282, 0.960061133, 3.98078799, 1.49610209, 1.56550157, 0.689304769, 0.961258411, 0.364223391, 1.16593587, 0.599660337, 0.475159377, 1.26082277, 0.77422452, 0.409686595, 0.238656387, 0.956148803};\n",
      "\n",
      "int modelFeature5[53] = {5, 12, 5, 7, 0, 5, 12, -2, 9, 6, 4, -2, -2, -2, 11, -2, 5, 4, 5, 7, 12, -2, -2, 0, 0, 5, 1, 12, 10, 5, 7, 6, 7, -2, -2, -2, -2, -2, -2, -2, -2, -2, -2, -2, -2, -2, -2, -2, -2, -2, -2, -2, -2};\n",
      "int modelThreshold5[53] = {7.12699986, 10.1399994, 7.79250002, 1.47284997, 5.84803009, 7.68849993, 2.67500019, -1.0, 219.0, 68.8000031, 0.669499993, -1.0, -1.0, -1.0, 396.209991, -1.0, 6.48149967, 0.448500007, 5.70849991, 1.98650002, 29.125, -1.0, -1.0, 0.134340003, 0.0645249933, 5.74599981, 22.5, 11.6199999, 17.5999985, 4.3829999, 2.55719995, 94.9000015, 1.50939989, -1.0, -1.0, -1.0, -1.0, -1.0, -1.0, -1.0, -1.0, -1.0, -1.0, -1.0, -1.0, -1.0, -1.0, -1.0, -1.0, -1.0, -1.0, -1.0, -1.0};\n",
      "int modelChildrenLeft5[53] = {1, 3, 5, 7, 9, 11, 13, -1, 15, 17, 19, -1, -1, -1, 21, -1, 23, 25, 27, 29, 31, -1, -1, 33, 35, 37, 39, 41, 43, 45, 47, 49, 51, -1, -1, -1, -1, -1, -1, -1, -1, -1, -1, -1, -1, -1, -1, -1, -1, -1, -1, -1, -1};\n",
      "int modelChildrenRight5[53] = {2, 4, 6, 8, 10, 12, 14, -1, 16, 18, 20, -1, -1, -1, 22, -1, 24, 26, 28, 30, 32, -1, -1, 34, 36, 38, 40, 42, 44, 46, 48, 50, 52, -1, -1, -1, -1, -1, -1, -1, -1, -1, -1, -1, -1, -1, -1, -1, -1, -1, -1, -1, -1};\n",
      "int modelValue5[53] = {645.103027, 179.596924, 35.4084473, 199.525635, 56.4082031, 12.5543823, 17.1273193, 3.8701818, 64.6237793, 22.6777344, 20.0896149, 1.99696505, 0.670099676, 0.666200101, 15.7097168, 2.26444006, 54.7252197, 11.5462036, 15.8138428, 25.8682861, 6.05591583, 3.11287951, 1.14750946, 13.6914062, 13.4100342, 1.54258728, 0.44418335, 14.2446823, 24.1148071, 5.36500549, 10.9910202, 4.11217499, 0.999665976, 0.830381453, 1.20848465, 1.20256984, 1.6877327, 0.38445583, 0.904982269, 1.39950967, 0.396021396, -0.285737813, 0.65775609, 1.38839221, 0.856474876, 0.277324677, 1.4076575, 0.119682558, 0.876242042, 0.66268158, 0.402954757, 0.0232861526, 0.261057377};\n",
      "\n",
      "int modelFeature6[53] = {12, 6, 10, 11, -2, 9, 7, -2, 6, 7, 9, -2, 6, 5, -2, 6, 6, 5, 0, 7, 12, -2, -2, 5, -2, -2, -2, 3, 7, 0, 0, 11, 4, 4, 5, -2, -2, -2, -2, -2, -2, -2, -2, -2, -2, -2, -2, -2, -2, -2, -2, -2, -2};\n",
      "int modelThreshold6[53] = {4.6500001, 80.6500015, 17.8499985, 377.290009, -1.0, 268.0, 1.17165005, -1.0, 71.8500061, 4.46374989, 413.0, -1.0, 67.6999969, 7.64799976, -1.0, 97.8000031, 56.0, 5.70749998, 0.0558049977, 4.51949978, 21.2299995, -1.0, -1.0, 5.85200024, -1.0, -1.0, -1.0, 1.0, 6.07515001, 0.0352099985, 0.138170004, 386.904999, 0.475499988, 0.715499997, 4.95300007, -1.0, -1.0, -1.0, -1.0, -1.0, -1.0, -1.0, -1.0, -1.0, -1.0, -1.0, -1.0, -1.0, -1.0, -1.0, -1.0, -1.0, -1.0};\n",
      "int modelChildrenLeft6[53] = {1, 3, 5, 7, -1, 9, 11, -1, 13, 15, 17, -1, 19, 21, -1, 23, 25, 27, 29, 31, 33, -1, -1, 35, -1, -1, -1, 37, 39, 41, 43, 45, 47, 49, 51, -1, -1, -1, -1, -1, -1, -1, -1, -1, -1, -1, -1, -1, -1, -1, -1, -1, -1};\n",
      "int modelChildrenRight6[53] = {2, 4, 6, 8, -1, 10, 12, -1, 14, 16, 18, -1, 20, 22, -1, 24, 26, 28, 30, 32, 34, -1, -1, 36, -1, -1, -1, 38, 40, 42, 44, 46, 48, 50, 52, -1, -1, -1, -1, -1, -1, -1, -1, -1, -1, -1, -1, -1, -1, -1, -1, -1, -1};\n",
      "int modelValue6[53] = {357.599609, 33.0895996, 112.067627, 12.2189331, 2.56561875, 74.6904297, 73.9464111, 0.475800723, 8.02233887, 31.4680176, 20.5765991, 2.50865436, 38.8272095, 15.6852417, 0.710554242, 3.00030518, 6.99649429, 18.5653076, 2.77351189, 9.66656494, 21.2418213, 1.3163228, 2.15005779, 4.23022461, 0.493354231, 1.00637054, 0.215670779, 1.80418205, 12.2364502, 0.0216502398, 3.33208084, 8.92160034, 6.4637146, 15.9295044, 7.80700302, 0.494335562, 1.95631492, 0.482981592, 0.026842976, 1.11649728, 0.723112106, 0.105019428, 0.0202757847, 0.654358447, 0.22200647, 1.36512613, 0.813899755, 0.74514854, 0.390095443, 0.541131854, 0.935127974, 0.642064571, 0.24536033};\n",
      "\n",
      "int modelFeature7[55] = {12, 6, 5, 10, -2, 7, 10, 12, 5, -2, 10, 4, 4, 2, -2, 1, -2, 9, 12, 0, 11, 7, 0, 5, -2, -2, -2, 0, 9, 4, 5, -2, -2, -2, -2, 8, 6, -2, 6, -2, -2, -2, -2, -2, -2, -2, -2, -2, -2, -2, -2, -2, -2, -2, -2};\n",
      "int modelThreshold7[55] = {4.6500001, 80.6500015, 6.61100006, 17.8999996, -1.0, 1.17165005, 16.5, 4.60000038, 6.90899992, -1.0, 19.4000015, 0.4005, 0.642500043, 6.73999977, -1.0, 77.5, -1.0, 298.0, 18.8850002, 0.0498900004, 369.190002, 3.30189991, 6.0794301, 8.25650024, -1.0, -1.0, -1.0, 0.0483250022, 305.0, 0.715499997, 5.21600008, -1.0, -1.0, -1.0, -1.0, 2.0, 68.4499969, -1.0, 84.1999969, -1.0, -1.0, -1.0, -1.0, -1.0, -1.0, -1.0, -1.0, -1.0, -1.0, -1.0, -1.0, -1.0, -1.0, -1.0, -1.0};\n",
      "int modelChildrenLeft7[55] = {1, 3, 5, 7, -1, 9, 11, 13, 15, -1, 17, 19, 21, 23, -1, 25, -1, 27, 29, 31, 33, 35, 37, 39, -1, -1, -1, 41, 43, 45, 47, -1, -1, -1, -1, 49, 51, -1, 53, -1, -1, -1, -1, -1, -1, -1, -1, -1, -1, -1, -1, -1, -1, -1, -1};\n",
      "int modelChildrenRight7[55] = {2, 4, 6, 8, -1, 10, 12, 14, 16, -1, 18, 20, 22, 24, -1, 26, -1, 28, 30, 32, 34, 36, 38, 40, -1, -1, -1, 42, 44, 46, 48, -1, -1, -1, -1, 50, 52, -1, 54, -1, -1, -1, -1, -1, -1, -1, -1, -1, -1, -1, -1, -1, -1, -1, -1};\n",
      "int modelValue7[55] = {198.773071, 20.5921631, 66.7615967, 11.3237915, 1.90588772, 58.7646484, 31.775238, 3.03250122, 3.31289673, 2.13235593, 31.5997925, 16.5448914, 14.5710297, 2.70809937, 0.309298903, 3.40440369, 0.841451585, 18.3721008, 15.1749725, 0.144028544, 3.81692505, 4.63618469, 2.32094145, 1.85144043, 0.32878533, 0.466588229, -0.0957012251, 11.4256287, 10.7212982, 9.24949646, 9.94139099, 0.0572244674, 0.285527229, 0.291665852, 1.32209134, 5.4785614, 10.3755722, -0.0959735885, 2.43550396, 1.42013919, 0.551928341, 0.323251307, 0.773709357, 0.182801455, 0.512404561, 0.373923272, 0.676169455, 0.437742293, 0.09913975, 0.26970616, 0.991163313, 0.747189045, 0.275582641, -0.0664728656, 0.377552718};\n",
      "\n",
      "int modelFeature8[51] = {12, 7, 7, 11, 5, -2, 5, 10, 0, -2, -2, 9, 10, -2, 12, -2, 0, 5, 10, 4, 4, 5, 8, -2, -2, 0, -2, 5, 6, 6, 6, 5, 0, -2, -2, -2, -2, -2, -2, -2, -2, -2, -2, -2, -2, -2, -2, -2, -2, -2, -2};\n",
      "int modelThreshold8[51] = {4.6500001, 5.97360039, 1.17165005, 396.265015, 6.66600037, -1.0, 6.61100006, 13.3000002, 0.0569400005, -1.0, -1.0, 208.0, 16.5, -1.0, 3.28999996, -1.0, 0.0998449996, 5.92000008, 17.7000008, 0.435000002, 0.642500043, 8.18550014, 3.0, -1.0, -1.0, 0.268864989, -1.0, 6.57750034, 32.6500015, 42.8499985, 91.5500031, 7.3125, 7.48290491, -1.0, -1.0, -1.0, -1.0, -1.0, -1.0, -1.0, -1.0, -1.0, -1.0, -1.0, -1.0, -1.0, -1.0, -1.0, -1.0, -1.0, -1.0};\n",
      "int modelChildrenLeft8[51] = {1, 3, 5, 7, 9, -1, 11, 13, 15, -1, -1, 17, 19, -1, 21, -1, 23, 25, 27, 29, 31, 33, 35, -1, -1, 37, -1, 39, 41, 43, 45, 47, 49, -1, -1, -1, -1, -1, -1, -1, -1, -1, -1, -1, -1, -1, -1, -1, -1, -1, -1};\n",
      "int modelChildrenRight8[51] = {2, 4, 6, 8, 10, -1, 12, 14, 16, -1, -1, 18, 20, -1, 22, -1, 24, 26, 28, 30, 32, 34, 36, -1, -1, 38, -1, 40, 42, 44, 46, 48, 50, -1, -1, -1, -1, -1, -1, -1, -1, -1, -1, -1, -1, -1, -1, -1, -1, -1, -1};\n",
      "int modelValue8[51] = {112.324524, 12.2640686, 43.2249146, 14.7224121, 1.96150208, 1.81250274, 40.6965942, 3.36245728, 3.43802071, 0.191967592, 0.660895884, 17.9572144, 16.9455872, 0.266703993, 0.553894043, -0.081346035, 0.176297188, 8.26734543, 15.0749512, 7.81257629, 7.56175995, 3.94795227, 1.51403809, 0.592567682, 0.147248268, 0.00202703476, 1.12291241, 10.2585144, 11.484436, 1.59200954, 4.56697083, 5.32803345, 1.60064149, 1.60864246, 0.376897454, 0.383336633, 1.03114665, 0.3468647, 0.0952616259, 0.478151977, -0.150791362, 0.487003058, 0.243873104, 0.512831509, 0.0486408249, 1.09878337, 0.340558052, 0.590394378, 0.226649836, -0.0337555893, 0.255483091};\n",
      "\n",
      "int modelFeature9[57] = {5, 7, 5, 0, 10, 3, 9, -2, -2, 12, 9, 8, 0, -2, 0, 4, 0, 10, 10, 12, 7, -2, -2, -2, -2, 1, 6, 1, 12, 0, 0, 5, 10, 5, -2, -2, 0, -2, -2, -2, -2, -2, -2, -2, -2, -2, -2, -2, -2, -2, -2, -2, -2, -2, -2, -2, -2};\n",
      "int modelThreshold9[57] = {7.12699986, 1.33920002, 7.82550001, 10.1702003, 17.7000008, 1.0, 270.0, -1.0, -1.0, 8.50500011, 223.0, 8.0, 0.163285002, -1.0, 0.323400021, 0.43599999, 0.0460499972, 18.0999985, 18.4500008, 7.24499989, 3.52329993, -1.0, -1.0, -1.0, -1.0, 82.5, 29.6000004, 43.25, 27.1100006, 0.0844800025, 0.268864989, 6.16950035, 18.6500015, 7.54949999, -1.0, -1.0, 0.487394989, -1.0, -1.0, -1.0, -1.0, -1.0, -1.0, -1.0, -1.0, -1.0, -1.0, -1.0, -1.0, -1.0, -1.0, -1.0, -1.0, -1.0, -1.0, -1.0, -1.0};\n",
      "int modelChildrenLeft9[57] = {1, 3, 5, 7, 9, 11, 13, -1, -1, 15, 17, 19, 21, -1, 23, 25, 27, 29, 31, 33, 35, -1, -1, -1, -1, 37, 39, 41, 43, 45, 47, 49, 51, 53, -1, -1, 55, -1, -1, -1, -1, -1, -1, -1, -1, -1, -1, -1, -1, -1, -1, -1, -1, -1, -1, -1, -1};\n",
      "int modelChildrenRight9[57] = {2, 4, 6, 8, 10, 12, 14, -1, -1, 16, 18, 20, 22, -1, 24, 26, 28, 30, 32, 34, 36, -1, -1, -1, -1, 38, 40, 42, 44, 46, 48, 50, 52, 54, -1, -1, 56, -1, -1, -1, -1, -1, -1, -1, -1, -1, -1, -1, -1, -1, -1, -1, -1, -1, -1, -1, -1};\n",
      "int modelValue9[57] = {73.5201721, 44.36026, 9.1867218, 37.1782074, 18.7246246, 4.42678833, 3.56871033, 1.8427788, 0.112158112, 13.8861084, 14.2311172, 2.59140015, 1.69930053, 1.13923407, 3.40772247, 12.820961, 7.87273407, 7.98283768, 9.58070374, 2.32057953, 3.54303956, 0.258358121, -0.138762474, 0.170603573, 0.730486572, 2.71046257, 1.89241791, 2.53532004, 6.85384369, 2.27342987, 0.262916565, 5.94107962, 20.9403992, 0.776145935, 0.265001684, 0.472747624, 0.0029038433, 0.214751631, 0.54108882, 0.390300363, 0.775223732, -0.169505209, 0.180616587, 0.35640353, -0.0458594561, 1.24984252, 0.265130997, 0.365347207, 0.0809723884, -0.0665611327, 0.18649666, 0.569153607, 0.194796756, 0.739973068, 0.276723117, -0.00688591041, -0.0368860252};\n",
      "\n"
     ]
    }
   ],
   "source": [
    "name = \"model\"\n",
    "for i in range(0,len(ft)):\n",
    "    \n",
    "    sft = \"int \" + name + \"Feature\" + str(i) + \"[\" + str(len(ft[i])) + \"] = {\"\n",
    "    sth = \"int \" + name + \"Threshold\" + str(i) + \"[\" + str(len(th[i])) + \"] = {\"\n",
    "    scl = \"int \" + name + \"ChildrenLeft\" + str(i) + \"[\" + str(len(cl[i])) + \"] = {\"\n",
    "    scr = \"int \" + name + \"ChildrenRight\" + str(i) + \"[\" + str(len(cr[i])) + \"] = {\"\n",
    "    svl = \"int \" + name + \"Value\" + str(i) + \"[\" + str(len(vl[i])) + \"] = {\"\n",
    "    \n",
    "    for j in range(0,len(ft[i])):\n",
    "        sft = sft + str(ft[i][j]) + \", \"\n",
    "        sth = sth + str(th[i][j]) + \", \"\n",
    "        scl = scl + str(cl[i][j]) + \", \"\n",
    "        scr = scr + str(cr[i][j]) + \", \"\n",
    "        svl = svl + str(vl[i][j]) + \", \"\n",
    "        \n",
    "    sft = sft[:len(sft)-2]\n",
    "    sth = sth[:len(sth)-2]\n",
    "    scl = scl[:len(scl)-2]\n",
    "    scr = scr[:len(scr)-2]\n",
    "    svl = svl[:len(svl)-2]\n",
    "    \n",
    "    sft += \"};\"\n",
    "    sth += \"};\"\n",
    "    scl += \"};\"\n",
    "    scr += \"};\"\n",
    "    svl += \"};\"\n",
    "    \n",
    "    print(sft)\n",
    "    print(sth)\n",
    "    print(scl)\n",
    "    print(scr)\n",
    "    print(svl)\n",
    "    print()"
   ]
  }
 ],
 "metadata": {
  "kernelspec": {
   "display_name": "Python 3 (ipykernel)",
   "language": "python",
   "name": "python3"
  },
  "language_info": {
   "codemirror_mode": {
    "name": "ipython",
    "version": 3
   },
   "file_extension": ".py",
   "mimetype": "text/x-python",
   "name": "python",
   "nbconvert_exporter": "python",
   "pygments_lexer": "ipython3",
   "version": "3.11.5"
  }
 },
 "nbformat": 4,
 "nbformat_minor": 1
}
