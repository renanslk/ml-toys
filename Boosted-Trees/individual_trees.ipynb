{
 "cells": [
  {
   "cell_type": "markdown",
   "metadata": {},
   "source": [
    "\n",
    "# Dummy XGBoost Regressor\n"
   ]
  },
  {
   "cell_type": "code",
   "execution_count": 154,
   "metadata": {},
   "outputs": [
    {
     "name": "stdout",
     "output_type": "stream",
     "text": [
      "RMSE :  3.713366\n"
     ]
    }
   ],
   "source": [
    "import numpy as np \n",
    "import pandas as pd \n",
    "import xgboost as xg \n",
    "from sklearn.model_selection import train_test_split \n",
    "from sklearn.metrics import mean_squared_error as MSE \n",
    "  \n",
    "# Load the data \n",
    "dataset = pd.read_csv(\"boston_housing.csv\") \n",
    "X, y = dataset.iloc[:, :-1], dataset.iloc[:, -1] \n",
    "  \n",
    "# Splitting \n",
    "train_X, test_X, train_y, test_y = train_test_split(X, y, \n",
    "                      test_size = 0.3, random_state = 123) \n",
    "  \n",
    "# Instantiation \n",
    "# xgb_r = xg.XGBRegressor(objective ='reg:linear', \n",
    "#                   n_estimators = 10, seed = 123) \n",
    "xgb_r = xg.XGBRegressor(objective ='reg:squarederror', \n",
    "                  n_estimators = 10, seed = 123) \n",
    "  \n",
    "# Fitting the model \n",
    "xgb_r.fit(train_X, train_y) \n",
    "  \n",
    "# Predict the model \n",
    "pred = xgb_r.predict(test_X) \n",
    "  \n",
    "# RMSE Computation \n",
    "rmse = np.sqrt(MSE(test_y, pred)) \n",
    "print(\"RMSE : % f\" %(rmse)) \n"
   ]
  },
  {
   "cell_type": "code",
   "execution_count": 155,
   "metadata": {},
   "outputs": [
    {
     "data": {
      "text/plain": [
       "'{\"learner\":{\"generic_param\":{\"fail_on_invalid_gpu_id\":\"0\",\"gpu_id\":\"-1\",\"n_jobs\":\"0\",\"nthread\":\"0\",\"random_state\":\"123\",\"seed\":\"123\",\"seed_per_iteration\":\"0\",\"validate_parameters\":\"1\"},\"gradient_booster\":{\"gbtree_model_param\":{\"num_parallel_tree\":\"1\",\"num_trees\":\"10\",\"size_leaf_vector\":\"0\"},\"gbtree_train_param\":{\"predictor\":\"auto\",\"process_type\":\"default\",\"tree_method\":\"exact\",\"updater\":\"grow_colmaker,prune\",\"updater_seq\":\"grow_colmaker,prune\"},\"name\":\"gbtree\",\"specified_updater\":false,\"updater\":{\"grow_colmaker\":{\"colmaker_train_param\":{\"default_direction\":\"learn\",\"opt_dense_col\":\"1\"},\"train_param\":{\"alpha\":\"0\",\"cache_opt\":\"1\",\"colsample_bylevel\":\"1\",\"colsample_bynode\":\"1\",\"colsample_bytree\":\"1\",\"eta\":\"0.300000012\",\"gamma\":\"0\",\"grow_policy\":\"depthwise\",\"interaction_constraints\":\"\",\"lambda\":\"1\",\"learning_rate\":\"0.300000012\",\"max_bin\":\"256\",\"max_cat_threshold\":\"64\",\"max_cat_to_onehot\":\"4\",\"max_delta_step\":\"0\",\"max_depth\":\"6\",\"max_leaves\":\"0\",\"min_child_weight\":\"1\",\"min_split_loss\":\"0\",\"monotone_constraints\":\"()\",\"refresh_leaf\":\"1\",\"reg_alpha\":\"0\",\"reg_lambda\":\"1\",\"sampling_method\":\"uniform\",\"sketch_ratio\":\"2\",\"sparse_threshold\":\"0.20000000000000001\",\"subsample\":\"1\"}},\"prune\":{\"train_param\":{\"alpha\":\"0\",\"cache_opt\":\"1\",\"colsample_bylevel\":\"1\",\"colsample_bynode\":\"1\",\"colsample_bytree\":\"1\",\"eta\":\"0.300000012\",\"gamma\":\"0\",\"grow_policy\":\"depthwise\",\"interaction_constraints\":\"\",\"lambda\":\"1\",\"learning_rate\":\"0.300000012\",\"max_bin\":\"256\",\"max_cat_threshold\":\"64\",\"max_cat_to_onehot\":\"4\",\"max_delta_step\":\"0\",\"max_depth\":\"6\",\"max_leaves\":\"0\",\"min_child_weight\":\"1\",\"min_split_loss\":\"0\",\"monotone_constraints\":\"()\",\"refresh_leaf\":\"1\",\"reg_alpha\":\"0\",\"reg_lambda\":\"1\",\"sampling_method\":\"uniform\",\"sketch_ratio\":\"2\",\"sparse_threshold\":\"0.20000000000000001\",\"subsample\":\"1\"}}}},\"learner_model_param\":{\"base_score\":\"5E-1\",\"boost_from_average\":\"1\",\"num_class\":\"0\",\"num_feature\":\"13\",\"num_target\":\"1\"},\"learner_train_param\":{\"booster\":\"gbtree\",\"disable_default_eval_metric\":\"0\",\"dsplit\":\"auto\",\"objective\":\"reg:squarederror\"},\"metrics\":[{\"name\":\"rmse\"}],\"objective\":{\"name\":\"reg:squarederror\",\"reg_loss_param\":{\"scale_pos_weight\":\"1\"}}},\"version\":[1,7,6]}'"
      ]
     },
     "execution_count": 155,
     "metadata": {},
     "output_type": "execute_result"
    }
   ],
   "source": [
    "xgb_r.get_booster().save_config()"
   ]
  },
  {
   "cell_type": "code",
   "execution_count": 156,
   "metadata": {},
   "outputs": [],
   "source": [
    "import pandas as pd\n",
    "df = xgb_r.get_booster().trees_to_dataframe()"
   ]
  },
  {
   "cell_type": "code",
   "execution_count": 157,
   "metadata": {},
   "outputs": [
    {
     "data": {
      "text/plain": [
       "Index(['Tree', 'Node', 'ID', 'Feature', 'Split', 'Yes', 'No', 'Missing',\n",
       "       'Gain', 'Cover', 'Category'],\n",
       "      dtype='object')"
      ]
     },
     "execution_count": 157,
     "metadata": {},
     "output_type": "execute_result"
    }
   ],
   "source": [
    "# GENERATE EACH TREE DATAFRAME\n",
    "\n",
    "df0 = df[df[\"Tree\"] == 0]\n",
    "df1 = df[df[\"Tree\"] == 1]\n",
    "df2 = df[df[\"Tree\"] == 2]\n",
    "df3 = df[df[\"Tree\"] == 3]\n",
    "df4 = df[df[\"Tree\"] == 4]\n",
    "df5 = df[df[\"Tree\"] == 5]\n",
    "df6 = df[df[\"Tree\"] == 6]\n",
    "df7 = df[df[\"Tree\"] == 7]\n",
    "df8 = df[df[\"Tree\"] == 8]\n",
    "df9 = df[df[\"Tree\"] == 9]\n",
    "\n",
    "df0.columns"
   ]
  },
  {
   "cell_type": "code",
   "execution_count": 158,
   "metadata": {},
   "outputs": [],
   "source": [
    "def treeCalc(data, feature, threshold, childrenLeft, childrenRight, value):\n",
    "    i = 0\n",
    "    while feature[i] != -2:\n",
    "        if data[feature[i]] < threshold[i]:\n",
    "            i = childrenLeft[i]\n",
    "        else:\n",
    "            i = childrenRight[i]\n",
    "    return value[i]"
   ]
  },
  {
   "cell_type": "markdown",
   "metadata": {},
   "source": [
    "# Python PRED"
   ]
  },
  {
   "cell_type": "code",
   "execution_count": 159,
   "metadata": {},
   "outputs": [
    {
     "data": {
      "text/html": [
       "<div>\n",
       "<style scoped>\n",
       "    .dataframe tbody tr th:only-of-type {\n",
       "        vertical-align: middle;\n",
       "    }\n",
       "\n",
       "    .dataframe tbody tr th {\n",
       "        vertical-align: top;\n",
       "    }\n",
       "\n",
       "    .dataframe thead th {\n",
       "        text-align: right;\n",
       "    }\n",
       "</style>\n",
       "<table border=\"1\" class=\"dataframe\">\n",
       "  <thead>\n",
       "    <tr style=\"text-align: right;\">\n",
       "      <th></th>\n",
       "      <th>0</th>\n",
       "      <th>1</th>\n",
       "      <th>2</th>\n",
       "      <th>3</th>\n",
       "      <th>4</th>\n",
       "      <th>5</th>\n",
       "      <th>6</th>\n",
       "      <th>7</th>\n",
       "      <th>8</th>\n",
       "      <th>9</th>\n",
       "      <th>10</th>\n",
       "      <th>11</th>\n",
       "      <th>12</th>\n",
       "    </tr>\n",
       "  </thead>\n",
       "  <tbody>\n",
       "    <tr>\n",
       "      <th>410</th>\n",
       "      <td>51.1358</td>\n",
       "      <td>0.0</td>\n",
       "      <td>18.1</td>\n",
       "      <td>0</td>\n",
       "      <td>0.597</td>\n",
       "      <td>5.757</td>\n",
       "      <td>100.0</td>\n",
       "      <td>1.413</td>\n",
       "      <td>24</td>\n",
       "      <td>666</td>\n",
       "      <td>20.2</td>\n",
       "      <td>2.6</td>\n",
       "      <td>10.11</td>\n",
       "    </tr>\n",
       "  </tbody>\n",
       "</table>\n",
       "</div>"
      ],
      "text/plain": [
       "           0    1     2  3      4      5      6      7   8    9    10   11  \\\n",
       "410  51.1358  0.0  18.1  0  0.597  5.757  100.0  1.413  24  666  20.2  2.6   \n",
       "\n",
       "        12  \n",
       "410  10.11  "
      ]
     },
     "execution_count": 159,
     "metadata": {},
     "output_type": "execute_result"
    }
   ],
   "source": [
    "# Input data\n",
    "test_X[0:1]"
   ]
  },
  {
   "cell_type": "code",
   "execution_count": 160,
   "metadata": {},
   "outputs": [
    {
     "data": {
      "text/plain": [
       "array([29.097708], dtype=float32)"
      ]
     },
     "execution_count": 160,
     "metadata": {},
     "output_type": "execute_result"
    }
   ],
   "source": [
    "pred = xgb_r.predict(test_X[0:1]) \n",
    "pred"
   ]
  },
  {
   "cell_type": "markdown",
   "metadata": {},
   "source": [
    "# C-Like PRED"
   ]
  },
  {
   "cell_type": "code",
   "execution_count": 161,
   "metadata": {},
   "outputs": [],
   "source": [
    "# Same input data\n",
    "testCase = [51.13580,0.0,18.10,0,0.5970,5.757,100.0,1.4130,24,666,20.2,2.60,10.11]"
   ]
  },
  {
   "cell_type": "code",
   "execution_count": 162,
   "metadata": {},
   "outputs": [
    {
     "name": "stdout",
     "output_type": "stream",
     "text": [
      "29.097708245999996\n"
     ]
    },
    {
     "name": "stderr",
     "output_type": "stream",
     "text": [
      "C:\\Users\\Renan\\AppData\\Local\\Temp\\ipykernel_9520\\1581059325.py:7: SettingWithCopyWarning: \n",
      "A value is trying to be set on a copy of a slice from a DataFrame.\n",
      "Try using .loc[row_indexer,col_indexer] = value instead\n",
      "\n",
      "See the caveats in the documentation: https://pandas.pydata.org/pandas-docs/stable/user_guide/indexing.html#returning-a-view-versus-a-copy\n",
      "  el['Yess'] = el['Yes'].str[2:]\n",
      "C:\\Users\\Renan\\AppData\\Local\\Temp\\ipykernel_9520\\1581059325.py:8: SettingWithCopyWarning: \n",
      "A value is trying to be set on a copy of a slice from a DataFrame.\n",
      "Try using .loc[row_indexer,col_indexer] = value instead\n",
      "\n",
      "See the caveats in the documentation: https://pandas.pydata.org/pandas-docs/stable/user_guide/indexing.html#returning-a-view-versus-a-copy\n",
      "  el['Noo'] = el['No'].str[2:]\n",
      "C:\\Users\\Renan\\AppData\\Local\\Temp\\ipykernel_9520\\1581059325.py:7: SettingWithCopyWarning: \n",
      "A value is trying to be set on a copy of a slice from a DataFrame.\n",
      "Try using .loc[row_indexer,col_indexer] = value instead\n",
      "\n",
      "See the caveats in the documentation: https://pandas.pydata.org/pandas-docs/stable/user_guide/indexing.html#returning-a-view-versus-a-copy\n",
      "  el['Yess'] = el['Yes'].str[2:]\n",
      "C:\\Users\\Renan\\AppData\\Local\\Temp\\ipykernel_9520\\1581059325.py:8: SettingWithCopyWarning: \n",
      "A value is trying to be set on a copy of a slice from a DataFrame.\n",
      "Try using .loc[row_indexer,col_indexer] = value instead\n",
      "\n",
      "See the caveats in the documentation: https://pandas.pydata.org/pandas-docs/stable/user_guide/indexing.html#returning-a-view-versus-a-copy\n",
      "  el['Noo'] = el['No'].str[2:]\n",
      "C:\\Users\\Renan\\AppData\\Local\\Temp\\ipykernel_9520\\1581059325.py:7: SettingWithCopyWarning: \n",
      "A value is trying to be set on a copy of a slice from a DataFrame.\n",
      "Try using .loc[row_indexer,col_indexer] = value instead\n",
      "\n",
      "See the caveats in the documentation: https://pandas.pydata.org/pandas-docs/stable/user_guide/indexing.html#returning-a-view-versus-a-copy\n",
      "  el['Yess'] = el['Yes'].str[2:]\n",
      "C:\\Users\\Renan\\AppData\\Local\\Temp\\ipykernel_9520\\1581059325.py:8: SettingWithCopyWarning: \n",
      "A value is trying to be set on a copy of a slice from a DataFrame.\n",
      "Try using .loc[row_indexer,col_indexer] = value instead\n",
      "\n",
      "See the caveats in the documentation: https://pandas.pydata.org/pandas-docs/stable/user_guide/indexing.html#returning-a-view-versus-a-copy\n",
      "  el['Noo'] = el['No'].str[2:]\n",
      "C:\\Users\\Renan\\AppData\\Local\\Temp\\ipykernel_9520\\1581059325.py:7: SettingWithCopyWarning: \n",
      "A value is trying to be set on a copy of a slice from a DataFrame.\n",
      "Try using .loc[row_indexer,col_indexer] = value instead\n",
      "\n",
      "See the caveats in the documentation: https://pandas.pydata.org/pandas-docs/stable/user_guide/indexing.html#returning-a-view-versus-a-copy\n",
      "  el['Yess'] = el['Yes'].str[2:]\n",
      "C:\\Users\\Renan\\AppData\\Local\\Temp\\ipykernel_9520\\1581059325.py:8: SettingWithCopyWarning: \n",
      "A value is trying to be set on a copy of a slice from a DataFrame.\n",
      "Try using .loc[row_indexer,col_indexer] = value instead\n",
      "\n",
      "See the caveats in the documentation: https://pandas.pydata.org/pandas-docs/stable/user_guide/indexing.html#returning-a-view-versus-a-copy\n",
      "  el['Noo'] = el['No'].str[2:]\n",
      "C:\\Users\\Renan\\AppData\\Local\\Temp\\ipykernel_9520\\1581059325.py:7: SettingWithCopyWarning: \n",
      "A value is trying to be set on a copy of a slice from a DataFrame.\n",
      "Try using .loc[row_indexer,col_indexer] = value instead\n",
      "\n",
      "See the caveats in the documentation: https://pandas.pydata.org/pandas-docs/stable/user_guide/indexing.html#returning-a-view-versus-a-copy\n",
      "  el['Yess'] = el['Yes'].str[2:]\n",
      "C:\\Users\\Renan\\AppData\\Local\\Temp\\ipykernel_9520\\1581059325.py:8: SettingWithCopyWarning: \n",
      "A value is trying to be set on a copy of a slice from a DataFrame.\n",
      "Try using .loc[row_indexer,col_indexer] = value instead\n",
      "\n",
      "See the caveats in the documentation: https://pandas.pydata.org/pandas-docs/stable/user_guide/indexing.html#returning-a-view-versus-a-copy\n",
      "  el['Noo'] = el['No'].str[2:]\n",
      "C:\\Users\\Renan\\AppData\\Local\\Temp\\ipykernel_9520\\1581059325.py:7: SettingWithCopyWarning: \n",
      "A value is trying to be set on a copy of a slice from a DataFrame.\n",
      "Try using .loc[row_indexer,col_indexer] = value instead\n",
      "\n",
      "See the caveats in the documentation: https://pandas.pydata.org/pandas-docs/stable/user_guide/indexing.html#returning-a-view-versus-a-copy\n",
      "  el['Yess'] = el['Yes'].str[2:]\n",
      "C:\\Users\\Renan\\AppData\\Local\\Temp\\ipykernel_9520\\1581059325.py:8: SettingWithCopyWarning: \n",
      "A value is trying to be set on a copy of a slice from a DataFrame.\n",
      "Try using .loc[row_indexer,col_indexer] = value instead\n",
      "\n",
      "See the caveats in the documentation: https://pandas.pydata.org/pandas-docs/stable/user_guide/indexing.html#returning-a-view-versus-a-copy\n",
      "  el['Noo'] = el['No'].str[2:]\n",
      "C:\\Users\\Renan\\AppData\\Local\\Temp\\ipykernel_9520\\1581059325.py:7: SettingWithCopyWarning: \n",
      "A value is trying to be set on a copy of a slice from a DataFrame.\n",
      "Try using .loc[row_indexer,col_indexer] = value instead\n",
      "\n",
      "See the caveats in the documentation: https://pandas.pydata.org/pandas-docs/stable/user_guide/indexing.html#returning-a-view-versus-a-copy\n",
      "  el['Yess'] = el['Yes'].str[2:]\n",
      "C:\\Users\\Renan\\AppData\\Local\\Temp\\ipykernel_9520\\1581059325.py:8: SettingWithCopyWarning: \n",
      "A value is trying to be set on a copy of a slice from a DataFrame.\n",
      "Try using .loc[row_indexer,col_indexer] = value instead\n",
      "\n",
      "See the caveats in the documentation: https://pandas.pydata.org/pandas-docs/stable/user_guide/indexing.html#returning-a-view-versus-a-copy\n",
      "  el['Noo'] = el['No'].str[2:]\n",
      "C:\\Users\\Renan\\AppData\\Local\\Temp\\ipykernel_9520\\1581059325.py:7: SettingWithCopyWarning: \n",
      "A value is trying to be set on a copy of a slice from a DataFrame.\n",
      "Try using .loc[row_indexer,col_indexer] = value instead\n",
      "\n",
      "See the caveats in the documentation: https://pandas.pydata.org/pandas-docs/stable/user_guide/indexing.html#returning-a-view-versus-a-copy\n",
      "  el['Yess'] = el['Yes'].str[2:]\n",
      "C:\\Users\\Renan\\AppData\\Local\\Temp\\ipykernel_9520\\1581059325.py:8: SettingWithCopyWarning: \n",
      "A value is trying to be set on a copy of a slice from a DataFrame.\n",
      "Try using .loc[row_indexer,col_indexer] = value instead\n",
      "\n",
      "See the caveats in the documentation: https://pandas.pydata.org/pandas-docs/stable/user_guide/indexing.html#returning-a-view-versus-a-copy\n",
      "  el['Noo'] = el['No'].str[2:]\n",
      "C:\\Users\\Renan\\AppData\\Local\\Temp\\ipykernel_9520\\1581059325.py:7: SettingWithCopyWarning: \n",
      "A value is trying to be set on a copy of a slice from a DataFrame.\n",
      "Try using .loc[row_indexer,col_indexer] = value instead\n",
      "\n",
      "See the caveats in the documentation: https://pandas.pydata.org/pandas-docs/stable/user_guide/indexing.html#returning-a-view-versus-a-copy\n",
      "  el['Yess'] = el['Yes'].str[2:]\n",
      "C:\\Users\\Renan\\AppData\\Local\\Temp\\ipykernel_9520\\1581059325.py:8: SettingWithCopyWarning: \n",
      "A value is trying to be set on a copy of a slice from a DataFrame.\n",
      "Try using .loc[row_indexer,col_indexer] = value instead\n",
      "\n",
      "See the caveats in the documentation: https://pandas.pydata.org/pandas-docs/stable/user_guide/indexing.html#returning-a-view-versus-a-copy\n",
      "  el['Noo'] = el['No'].str[2:]\n",
      "C:\\Users\\Renan\\AppData\\Local\\Temp\\ipykernel_9520\\1581059325.py:7: SettingWithCopyWarning: \n",
      "A value is trying to be set on a copy of a slice from a DataFrame.\n",
      "Try using .loc[row_indexer,col_indexer] = value instead\n",
      "\n",
      "See the caveats in the documentation: https://pandas.pydata.org/pandas-docs/stable/user_guide/indexing.html#returning-a-view-versus-a-copy\n",
      "  el['Yess'] = el['Yes'].str[2:]\n",
      "C:\\Users\\Renan\\AppData\\Local\\Temp\\ipykernel_9520\\1581059325.py:8: SettingWithCopyWarning: \n",
      "A value is trying to be set on a copy of a slice from a DataFrame.\n",
      "Try using .loc[row_indexer,col_indexer] = value instead\n",
      "\n",
      "See the caveats in the documentation: https://pandas.pydata.org/pandas-docs/stable/user_guide/indexing.html#returning-a-view-versus-a-copy\n",
      "  el['Noo'] = el['No'].str[2:]\n"
     ]
    }
   ],
   "source": [
    "elem = [df0, df1, df2, df3, df4, df5, df6, df7, df8, df9]\n",
    "results = []\n",
    "\n",
    "for el in elem:\n",
    "    threshold = el.Split.replace(np.nan,-1.0).tolist()\n",
    "\n",
    "    el['Yess'] = el['Yes'].str[2:]\n",
    "    el['Noo'] = el['No'].str[2:]\n",
    "    childrenRight = el.Noo.replace(np.nan,-1).astype(int).tolist()\n",
    "    childrenLeft = el.Yess.replace(np.nan,-1).astype(int).tolist()\n",
    "    value = el.Gain.tolist()\n",
    "    feature = el.Feature.replace('Leaf',-2).astype(int).tolist()\n",
    "    \n",
    "    # calculation\n",
    "    results.append(treeCalc(testCase, feature, threshold, childrenLeft, childrenRight, value))\n",
    "\n",
    "bias = 0.5\n",
    "print(np.sum(results) + bias)"
   ]
  },
  {
   "cell_type": "code",
   "execution_count": 163,
   "metadata": {},
   "outputs": [],
   "source": [
    "# # DEBUG\n",
    "# print(childrenRight)\n",
    "# print(childrenLeft)\n",
    "# print(feature)\n",
    "# print(value)\n",
    "# print(threshold)"
   ]
  }
 ],
 "metadata": {
  "kernelspec": {
   "display_name": "Python 3 (ipykernel)",
   "language": "python",
   "name": "python3"
  },
  "language_info": {
   "codemirror_mode": {
    "name": "ipython",
    "version": 3
   },
   "file_extension": ".py",
   "mimetype": "text/x-python",
   "name": "python",
   "nbconvert_exporter": "python",
   "pygments_lexer": "ipython3",
   "version": "3.11.5"
  }
 },
 "nbformat": 4,
 "nbformat_minor": 1
}
